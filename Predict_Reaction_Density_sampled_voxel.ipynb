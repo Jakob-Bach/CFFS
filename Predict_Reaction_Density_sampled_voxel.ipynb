{
 "cells": [
  {
   "cell_type": "markdown",
   "metadata": {},
   "source": [
    "# Predict of Reaction Density and Evolution of Reaction Density"
   ]
  },
  {
   "cell_type": "code",
   "execution_count": 1,
   "metadata": {},
   "outputs": [],
   "source": [
    "import re\n",
    "\n",
    "import matplotlib.pyplot as plt\n",
    "import pandas as pd"
   ]
  },
  {
   "cell_type": "markdown",
   "metadata": {},
   "source": [
    "## Load dataset\n",
    "\n",
    "Beside loading, we also remove some time steps which do not fall into the regular intervals of the macro-time steps."
   ]
  },
  {
   "cell_type": "code",
   "execution_count": 2,
   "metadata": {},
   "outputs": [
    {
     "name": "stdout",
     "output_type": "stream",
     "text": [
      "Number of time steps before cleaning: 300\n",
      "Number of time steps after cleaning: 298\n",
      "(Rows, columns): (37250, 2330)\n"
     ]
    }
   ],
   "source": [
    "dataset = pd.read_csv('C:/MyData/Versetzungsdaten/sampled_voxel_data_size2400_order2_speedUp2.csv')\n",
    "dataset.drop(columns=list(dataset)[0], inplace=True) # drop 1st column (unnamed id column)\n",
    "print('Number of time steps before cleaning:', dataset['time'].nunique())\n",
    "dataset = dataset[dataset['time'] % 50 == 0] # remove irregular time steps\n",
    "print('Number of time steps after cleaning:', dataset['time'].nunique())\n",
    "print('(Rows, columns):', dataset.shape)"
   ]
  },
  {
   "cell_type": "markdown",
   "metadata": {},
   "source": [
    "## Add delta columns\n",
    "\n",
    "In contrast to the `delta_sampled_merged` dataset, we do not have any pre-defined difference columns here.\n",
    "Thus, we add them.\n",
    "\n",
    "Note that we support deltas of more than one macro time-step.\n",
    "Else, we could simply have used the history features `0_xyz` in the computation (without need for grouping).\n",
    "Later, we'll use the deltas as one possible prediction target.\n",
    "The bigger the delta, the better prediction results usually become.\n",
    "\n",
    "Also, note that the delts are defined between future time step and current time step instead current time step and past time step.\n",
    "This is different in our notebook for the other dataset."
   ]
  },
  {
   "cell_type": "code",
   "execution_count": 3,
   "metadata": {},
   "outputs": [],
   "source": [
    "delta_steps = 20\n",
    "dataset.sort_values(by='time', inplace=True)\n",
    "dataset_grouped = dataset.groupby(['pos_x', 'pos_y', 'pos_z'])\n",
    "for quantity in ['coll', 'glissile', 'lomer']:\n",
    "    dataset['delta_' + quantity] = dataset_grouped[quantity].transform(lambda x: x.shift(-delta_steps) - x)\n",
    "del dataset_grouped"
   ]
  },
  {
   "cell_type": "markdown",
   "metadata": {},
   "source": [
    "## Define features and target\n",
    "\n",
    "We consider to prediction scenarios:\n",
    "- absolute reaction density (which is not really interesting according to a domain expert)\n",
    "- evolution of reaction density, i.e., difference from some point in time to another point in time (which probably is more difficult to predict)\n",
    "\n",
    "The feature sets are slightly different than for the `delta_sampled_merged` dataset:\n",
    "- We have different physical quantities in the dataset.\n",
    "- Naming conventions of features differ."
   ]
  },
  {
   "cell_type": "code",
   "execution_count": 4,
   "metadata": {},
   "outputs": [],
   "source": [
    "prediction_problems = []"
   ]
  },
  {
   "cell_type": "markdown",
   "metadata": {},
   "source": [
    "### Subset dataset\n",
    "\n",
    "To have a more homogenous dataset (in particular, for the evolution scenario), we select a subset of macro-time steps without gaps between them.\n",
    "This was also proposed by a domain expert.\n",
    "We select the largest of the time-step subsets.\n",
    "Note that we also need to prune the last time steps in that subset, because there will the time gaps in their (forward-oriented) prediction horizon."
   ]
  },
  {
   "cell_type": "code",
   "execution_count": 5,
   "metadata": {},
   "outputs": [
    {
     "name": "stdout",
     "output_type": "stream",
     "text": [
      "Longest number of consecutive timestamps with sufficient history available: 38\n",
      "New dataset shape: (4750, 2333)\n"
     ]
    }
   ],
   "source": [
    "times = pd.DataFrame({'time': dataset['time'].sort_values().unique()})\n",
    "times['time_diff'] = times - times.shift()\n",
    "times['group'] = (times['time_diff'] != 50).cumsum() # macro-time step bigger than usual\n",
    "longest_group = times.groupby('group').size().idxmax()\n",
    "timestamps = list(times[times['group'] == longest_group].time)[:-delta_steps] # longest sequence, without last elements\n",
    "print('Longest number of consecutive timestamps with sufficient history available:', len(timestamps))\n",
    "dataset = dataset[dataset.time.isin(timestamps)]\n",
    "print('New dataset shape:', dataset.shape)"
   ]
  },
  {
   "cell_type": "markdown",
   "metadata": {},
   "source": [
    "Alternatively, we could also select all macro-time steps where we have data for the prediction horizon (specific step in future).\n",
    "This also ensures we have valid data for each prediction time, but overall combines data which might be largely apart, as there might be larger gaps between the selected time steps."
   ]
  },
  {
   "cell_type": "code",
   "execution_count": 6,
   "metadata": {},
   "outputs": [],
   "source": [
    "# times = pd.DataFrame({'time': dataset['time'].sort_values().unique()})\n",
    "# times['time_diff'] = times - times.shift()\n",
    "# times['group'] = (times['time_diff'] != 50).cumsum()\n",
    "# # For each group, remove the last \"delta_steps\" elements:\n",
    "# timestamps = list(times.groupby('group').apply(lambda x: x.drop(labels=x.index[-delta_steps:]))['time'])\n",
    "# dataset = dataset[dataset.time.isin(timestamps)]\n",
    "# print('New dataset shape:', dataset.shape)"
   ]
  },
  {
   "cell_type": "markdown",
   "metadata": {},
   "source": [
    "### Prediction target: Absolute reaction density\n",
    "\n",
    "We don't need to sum over the slip systems for this dataset, as we don't have slip-system-specific information for the reaction densities.\n",
    "We exclude some features from prediction, in particular, values from the previous macro-time step and deltas."
   ]
  },
  {
   "cell_type": "code",
   "execution_count": 7,
   "metadata": {},
   "outputs": [],
   "source": [
    "target = 'glissile'\n",
    "features = [x for x in list(dataset) if not target in x] # exclude if feature name contains the target string\n",
    "features = [x for x in features if re.search('^([0-9]+)_', x) is None] # exclude historic features\n",
    "features = [x for x in features if not 'delta' in x] # exclude delta features\n",
    "features = [x for x in features if not 'pos_' in x and x != 'time'] # exclude position and time\n",
    "prediction_problems.append({'target': target, 'features': features})"
   ]
  },
  {
   "cell_type": "markdown",
   "metadata": {},
   "source": [
    "### Prediction target: Evolution of reaction density\n",
    "\n",
    "Similar procedure.\n",
    "We only consider values from the previous macro-time step as features."
   ]
  },
  {
   "cell_type": "code",
   "execution_count": 8,
   "metadata": {},
   "outputs": [],
   "source": [
    "target = 'delta_glissile'\n",
    "features = [x for x in list(dataset) if not target in x] # exclude if feature name contains the target string\n",
    "features = [x for x in features if re.search('^([0-9]+)_', x) is None] # exclude historic features\n",
    "prediction_problems.append({'target': target, 'features': features})\n",
    "dataset.dropna(subset=[target], inplace=True) # just a safeguard, usually these rows should have already been dropped earlier"
   ]
  },
  {
   "cell_type": "markdown",
   "metadata": {},
   "source": [
    "## Run prediction pipeline\n",
    "\n",
    "We try several regression models with a time-based holdout split.\n",
    "Currently, we don't have any other pre-processing in place than our definition of the feature set."
   ]
  },
  {
   "cell_type": "code",
   "execution_count": 9,
   "metadata": {},
   "outputs": [],
   "source": [
    "import numpy as np\n",
    "from sklearn.dummy import DummyRegressor\n",
    "from sklearn.linear_model import LinearRegression\n",
    "from sklearn.metrics import r2_score\n",
    "from sklearn.tree import DecisionTreeRegressor\n",
    "from xgboost import XGBRegressor\n",
    "\n",
    "models = {\n",
    "    'Dummy': DummyRegressor(strategy='mean'),\n",
    "    'Decision tree': DecisionTreeRegressor(),\n",
    "    'Linear regression': LinearRegression(),\n",
    "    'xgboost': XGBRegressor(),\n",
    "}\n",
    "\n",
    "max_train_time = dataset['time'].quantile(q=0.8)\n",
    "np.random.seed(25)\n",
    "results = []\n",
    "for problem in prediction_problems:\n",
    "    X_train = dataset[dataset['time'] <= max_train_time][problem['features']]\n",
    "    y_train = dataset[dataset['time'] <= max_train_time][problem['target']]\n",
    "    X_test = dataset[dataset['time'] > max_train_time][problem['features']]\n",
    "    y_test = dataset[dataset['time'] > max_train_time][problem['target']]\n",
    "    for model_name, model in models.items():\n",
    "        model.fit(X_train, y_train)\n",
    "        pred_train = model.predict(X_train)\n",
    "        train_score = r2_score(y_true=y_train, y_pred=pred_train)\n",
    "        pred_test = model.predict(X_test)\n",
    "        test_score = r2_score(y_true=y_test, y_pred=pred_test)\n",
    "        results.append({'target': problem['target'], 'model': model_name,\n",
    "                        'train_score': train_score, 'test_score': test_score})\n",
    "results = pd.DataFrame(results)"
   ]
  },
  {
   "cell_type": "markdown",
   "metadata": {},
   "source": [
    "## Evaluate\n",
    "\n",
    "We tabulate and plot the results.\n",
    "Predicting evolution is much harder than predicting absolute values."
   ]
  },
  {
   "cell_type": "code",
   "execution_count": 10,
   "metadata": {},
   "outputs": [
    {
     "name": "stdout",
     "output_type": "stream",
     "text": [
      "           target              model  train_score  test_score\n",
      "0        glissile              Dummy     0.000000   -0.016663\n",
      "1        glissile      Decision tree     1.000000    0.970537\n",
      "2        glissile  Linear regression     0.986815    0.982746\n",
      "3        glissile            xgboost     0.999910    0.983968\n",
      "4  delta_glissile              Dummy     0.000000   -0.010872\n",
      "5  delta_glissile      Decision tree     1.000000    0.534170\n",
      "6  delta_glissile  Linear regression     0.744209    0.643986\n",
      "7  delta_glissile            xgboost     0.996691    0.722037\n",
      "\n",
      "(for a delta of 20 macro-time steps == 1000 micro-time steps)\n"
     ]
    },
    {
     "data": {
      "image/png": "[encoded data removed]",
      "text/plain": [
       "<Figure size 1152x288 with 1 Axes>"
      ]
     },
     "metadata": {
      "needs_background": "light"
     },
     "output_type": "display_data"
    }
   ],
   "source": [
    "print(results)\n",
    "print('\\n(for a delta of ' + str(delta_steps) + ' macro-time steps == ' + str(delta_steps * 50) + ' micro-time steps)')\n",
    "results.set_index(['target', 'model']).plot(kind='bar', figsize=(16, 4), ylim=(-0.2, 1.2)) # alternative to indexing: xticks\n",
    "plt.show()"
   ]
  }
 ],
 "metadata": {
  "kernelspec": {
   "display_name": "cffs_kernel",
   "language": "python",
   "name": "cffs_kernel"
  },
  "language_info": {
   "codemirror_mode": {
    "name": "ipython",
    "version": 3
   },
   "file_extension": ".py",
   "mimetype": "text/x-python",
   "name": "python",
   "nbconvert_exporter": "python",
   "pygments_lexer": "ipython3",
   "version": "3.8.1"
  }
 },
 "nbformat": 4,
 "nbformat_minor": 4
}
