{
 "cells": [
  {
   "cell_type": "markdown",
   "metadata": {},
   "source": [
    "# Solver Benchmark - Finding All Solutions"
   ]
  },
  {
   "cell_type": "markdown",
   "metadata": {},
   "source": [
    "## Z3"
   ]
  },
  {
   "cell_type": "markdown",
   "metadata": {},
   "source": [
    "The `Z3` solver returns only one valid solution.\n",
    "We try two ways to find/count all satisfying interpretations (models):\n",
    "- Enumeration-based: Enumerate all possible assignments and check if they satisfy all assertions. This is possible in `Z3` with a substitution and simplification mechanism, but looks a bit awkward.\n",
    "- [Solver-based](https://stackoverflow.com/questions/13395391/z3-finding-all-satisfying-models): Find the first model with the solver. Add the negation of its assignment as another constraint and re-run the solver. Thus, the solver will find a different solution. Repeat until unsatisfiable."
   ]
  },
  {
   "cell_type": "code",
   "execution_count": 1,
   "metadata": {},
   "outputs": [],
   "source": [
    "def count_models_with_solver(solver, variables):\n",
    "    solver.push() # as we will add further assertions to solver, checkpoint current state\n",
    "    solutions = 0\n",
    "    while solver.check() == sat:\n",
    "        solutions = solutions + 1\n",
    "        # Invert at least one variable to get a different solution:\n",
    "        solver.add(Or([Not(x) if is_true(solver.model()[x]) else x for x in variables]))\n",
    "    solver.pop() # restore solver to previous state\n",
    "    return solutions\n",
    "\n",
    "import itertools\n",
    "\n",
    "def count_models_by_enumeration(solver, variables):\n",
    "    solutions = 0\n",
    "    for assignment in itertools.product([False, True], repeat = len(variables)): # all combinations\n",
    "        satisfied = True\n",
    "        for assertion in solver.assertions():\n",
    "            if is_false(simplify(substitute(assertion, list(zip(variables, [BoolVal(x) for x in assignment]))))):\n",
    "                satisfied = False\n",
    "                break\n",
    "        if satisfied: solutions = solutions + 1\n",
    "    return solutions"
   ]
  },
  {
   "cell_type": "markdown",
   "metadata": {},
   "source": [
    "We try both approaches with a small propositional formula with 10 variables, using an AND constraint as well as an OR constraint."
   ]
  },
  {
   "cell_type": "code",
   "execution_count": 2,
   "metadata": {},
   "outputs": [
    {
     "name": "stdout",
     "output_type": "stream",
     "text": [
      "## OR formula ##\n",
      "--Enumeration-based approach--\n",
      "Number of models: 1023\n",
      "Time: 0.46 s\n",
      "--Solver-based approach--\n",
      "Number of models: 1023\n",
      "Time: 1.41 s\n",
      "## AND formula ##\n",
      "--Enumeration-based approach--\n",
      "Number of models: 1\n",
      "Time: 0.43 s\n",
      "--Solver-based approach--\n",
      "Number of models: 1\n",
      "Time: 0.0 s\n"
     ]
    }
   ],
   "source": [
    "import time\n",
    "from z3 import *\n",
    "\n",
    "def benchmark(name, function, solver, variables):\n",
    "    print('--'+ name + ' approach--')\n",
    "    start_time = time.perf_counter()\n",
    "    print('Number of models: ' + str(function(solver, variables)))\n",
    "    end_time = time.perf_counter()\n",
    "    print('Time: ' + str(round(end_time - start_time, 2)) + ' s')\n",
    "\n",
    "\n",
    "x = Bools(' '.join('x' + str(i) for i in range(10)))\n",
    "solver = Solver()\n",
    "\n",
    "print('## OR formula ##')\n",
    "solver.add(Or(x))\n",
    "benchmark('Enumeration-based', count_models_by_enumeration, solver, x)\n",
    "benchmark('Solver-based', count_models_with_solver, solver, x)\n",
    "\n",
    "print('## AND formula ##')\n",
    "solver.reset()\n",
    "solver.add(And(x))\n",
    "benchmark('Enumeration-based', count_models_by_enumeration, solver, x)\n",
    "benchmark('Solver-based', count_models_with_solver, solver, x)"
   ]
  },
  {
   "cell_type": "markdown",
   "metadata": {},
   "source": [
    "The enumeration-based approach has to evaluate the same number of variables for AND and OR formulas, i.e., all variables.\n",
    "In our implementation, it would only benefit if there were multiple assertions, as it could abort earlier in some cases.\n",
    "The solver-based approach is faster if there are few models and slower if there are many models.\n",
    "Though it can build on previous solutions, finding a new model which also is different from the previous models actually becomes more difficult over time, the number of constraints grows."
   ]
  }
 ],
 "metadata": {
  "kernelspec": {
   "display_name": "cffs_kernel",
   "language": "python",
   "name": "cffs_kernel"
  },
  "language_info": {
   "codemirror_mode": {
    "name": "ipython",
    "version": 3
   },
   "file_extension": ".py",
   "mimetype": "text/x-python",
   "name": "python",
   "nbconvert_exporter": "python",
   "pygments_lexer": "ipython3",
   "version": "3.8.1"
  }
 },
 "nbformat": 4,
 "nbformat_minor": 4
}
