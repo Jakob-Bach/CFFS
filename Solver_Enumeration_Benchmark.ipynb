{
 "cells": [
  {
   "cell_type": "markdown",
   "metadata": {},
   "source": [
    "# Solver Benchmark - Finding All Solutions"
   ]
  },
  {
   "cell_type": "code",
   "execution_count": 1,
   "metadata": {},
   "outputs": [],
   "source": [
    "import time\n",
    "\n",
    "def benchmark(name, function, param1, param2):\n",
    "    \"\"\"Benchmark a function with two parameters.\"\"\"\n",
    "    \n",
    "    print('--'+ name + ' approach--')\n",
    "    start_time = time.perf_counter()\n",
    "    print('Number of models: ' + str(function(param1, param2)))\n",
    "    end_time = time.perf_counter()\n",
    "    print('Time: ' + str(round(end_time - start_time, 2)) + ' s')"
   ]
  },
  {
   "cell_type": "markdown",
   "metadata": {},
   "source": [
    "## Z3"
   ]
  },
  {
   "cell_type": "markdown",
   "metadata": {},
   "source": [
    "The `Z3` solver returns only one valid solution.\n",
    "We try two ways to find/count all satisfying interpretations (models):\n",
    "- Enumeration-based: Enumerate all possible assignments and check if they satisfy all assertions. This is possible in `Z3` with\n",
    "  - conditional checking, which temporarily adds the literals corresponding to the assignment as further constraints and checks the resulting model.\n",
    "  - substitution of the variables with their values, followed by simplification.\n",
    "- [Solver-based](https://stackoverflow.com/questions/13395391/z3-finding-all-satisfying-models): Find the first model with the solver. Add the negation of its assignment as another constraint and re-run the solver. Thus, the solver will find a different solution. Repeat until unsatisfiable."
   ]
  },
  {
   "cell_type": "code",
   "execution_count": 2,
   "metadata": {},
   "outputs": [],
   "source": [
    "from z3 import *\n",
    "\n",
    "def count_models_with_solver(solver, variables):\n",
    "    solver.push() # as we will add further assertions to solver, checkpoint current state\n",
    "    solutions = 0\n",
    "    while solver.check() == sat:\n",
    "        solutions = solutions + 1\n",
    "        # Invert at least one variable to get a different solution:\n",
    "        solver.add(Or([Not(x) if is_true(solver.model()[x]) else x for x in variables]))\n",
    "    solver.pop() # restore solver to previous state\n",
    "    return solutions\n",
    "\n",
    "import itertools\n",
    "\n",
    "# Fastest enumeration: conditional checking.\n",
    "def count_models_by_enumeration(solver, variables):\n",
    "    solutions = 0\n",
    "    for assignment in itertools.product(*[(x, Not(x)) for x in variables]): # all combinations\n",
    "        if solver.check(assignment) == sat: # conditional check (does not add assignment permanently)\n",
    "            solutions = solutions + 1\n",
    "    return solutions\n",
    "\n",
    "# Creating the assignment as a separate step is slower.\n",
    "def count_models_by_enumeration2(solver, variables):\n",
    "    solutions = 0\n",
    "    for assignment in itertools.product([False, True], repeat = len(variables)): # all combinations\n",
    "        if solver.check([x if assign_true else Not(x) for x, assign_true in zip(variables, assignment)]) == sat:\n",
    "            solutions = solutions + 1\n",
    "    return solutions\n",
    "\n",
    "# Using simplication instead of conditional checking is even slower.\n",
    "def count_models_by_enumeration3(solver, variables):\n",
    "    solutions = 0\n",
    "    for assignment in itertools.product([BoolVal(False), BoolVal(True)], repeat = len(variables)): # all combinations\n",
    "        satisfied = True\n",
    "        for assertion in solver.assertions():\n",
    "            if is_false(simplify(substitute(assertion, list(zip(variables, assignment))))):\n",
    "                satisfied = False\n",
    "                break\n",
    "        if satisfied: solutions = solutions + 1\n",
    "    return solutions"
   ]
  },
  {
   "cell_type": "markdown",
   "metadata": {},
   "source": [
    "We try both approaches with a small propositional formula with 10 variables, using an AND constraint as well as an OR constraint."
   ]
  },
  {
   "cell_type": "code",
   "execution_count": 3,
   "metadata": {},
   "outputs": [
    {
     "name": "stdout",
     "output_type": "stream",
     "text": [
      "## OR formula ##\n",
      "--Solver-based approach--\n",
      "Number of models: 1023\n",
      "Time: 1.65 s\n",
      "--Enumeration-based (conditional check, direct assignment) approach--\n",
      "Number of models: 1023\n",
      "Time: 0.08 s\n",
      "--Enumeration-based (conditional check, separate assignment) approach--\n",
      "Number of models: 1023\n",
      "Time: 0.25 s\n",
      "--Enumeration-based (substitute + simplify) approach--\n",
      "Number of models: 1023\n",
      "Time: 0.38 s\n",
      "\n",
      "## AND formula ##\n",
      "--Solver-based approach--\n",
      "Number of models: 1\n",
      "Time: 0.0 s\n",
      "--Enumeration-based (conditional check, direct assignment) approach--\n",
      "Number of models: 1\n",
      "Time: 0.01 s\n",
      "--Enumeration-based (conditional check, separate assignment) approach--\n",
      "Number of models: 1\n",
      "Time: 0.21 s\n",
      "--Enumeration-based (substitute + simplify) approach--\n",
      "Number of models: 1\n",
      "Time: 0.39 s\n"
     ]
    }
   ],
   "source": [
    "from z3 import *\n",
    "\n",
    "x = Bools(' '.join('x' + str(i) for i in range(10)))\n",
    "solver = Solver()\n",
    "\n",
    "print('## OR formula ##')\n",
    "solver.add(Or(x))\n",
    "benchmark('Solver-based', count_models_with_solver, solver, x)\n",
    "benchmark('Enumeration-based (conditional check, direct assignment)', count_models_by_enumeration, solver, x)\n",
    "benchmark('Enumeration-based (conditional check, separate assignment)', count_models_by_enumeration2, solver, x)\n",
    "benchmark('Enumeration-based (substitute + simplify)', count_models_by_enumeration3, solver, x)\n",
    "\n",
    "print('\\n## AND formula ##')\n",
    "solver.reset()\n",
    "solver.add(And(x))\n",
    "benchmark('Solver-based', count_models_with_solver, solver, x)\n",
    "benchmark('Enumeration-based (conditional check, direct assignment)', count_models_by_enumeration, solver, x)\n",
    "benchmark('Enumeration-based (conditional check, separate assignment)', count_models_by_enumeration2, solver, x)\n",
    "benchmark('Enumeration-based (substitute + simplify)', count_models_by_enumeration3, solver, x)"
   ]
  },
  {
   "cell_type": "markdown",
   "metadata": {},
   "source": [
    "The enumeration-based approach has to evaluate the same number of values for AND and OR formulas, i.e., all value combinations.\n",
    "The conditional-checking approach still seems to benefit from problems with fewer solutions, though not as strong as the solver-based approach.\n",
    "Overall, there is no clear winner: Depending on the number of solutions, solving or enumerating might be better."
   ]
  },
  {
   "cell_type": "markdown",
   "metadata": {},
   "source": [
    "## Google OR Tools\n",
    "\n",
    "Google provides a framework for combinatorial white-box optimization problems, including constraint [solving](https://developers.google.com/optimization/cp/cp_solver) and [optimization](https://developers.google.com/optimization/cp/integer_opt_cp).\n",
    "Besides the [Python API](https://developers.google.com/optimization/reference/python/sat/python/cp_model), C++, Java and C# are supported.\n",
    "Creating an enumeration-based solution is more difficult than with `Z3`, as we cannot simply copy models or make conditional evaluations (temporary assignments).\n",
    "Thus, we refrain from implementing such a solution.\n",
    "Howeveer, as a nice alternative, iterating over all valid solutions is supported natively."
   ]
  },
  {
   "cell_type": "code",
   "execution_count": 4,
   "metadata": {},
   "outputs": [],
   "source": [
    "from ortools.sat.python import cp_model\n",
    "\n",
    "def count_models_with_solver(model, variables):\n",
    "    # TO DO: make a copy of model (not supported natively)\n",
    "    solver = cp_model.CpSolver()\n",
    "    solutions = 0\n",
    "    while solver.Solve(model) == cp_model.FEASIBLE:\n",
    "        solutions = solutions + 1\n",
    "        # Invert at least one variable to get a different solution:\n",
    "        model.AddBoolOr([x.Not() if solver.Value(x) == 1 else x for x in variables])\n",
    "    return solutions\n",
    "\n",
    "class Solution_Counter(cp_model.CpSolverSolutionCallback):\n",
    "\n",
    "    def __init__(self):\n",
    "        cp_model.CpSolverSolutionCallback.__init__(self)\n",
    "        self.__solution_count = 0\n",
    "\n",
    "    def on_solution_callback(self):\n",
    "        self.__solution_count += 1\n",
    "\n",
    "    def solution_count(self):\n",
    "        return self.__solution_count\n",
    "\n",
    "def count_models_natively(model, counter_callback):\n",
    "    solver = cp_model.CpSolver()\n",
    "    solver.SearchForAllSolutions(model=model, callback=counter_callback)\n",
    "    return counter_callback.solution_count()"
   ]
  },
  {
   "cell_type": "code",
   "execution_count": 5,
   "metadata": {
    "scrolled": true
   },
   "outputs": [
    {
     "name": "stdout",
     "output_type": "stream",
     "text": [
      "## OR formula ##\n",
      "--Solver-based approach--\n",
      "Number of models: 1023\n",
      "Time: 22.96 s\n",
      "--Native approach--\n",
      "Number of models: 1023\n",
      "Time: 0.06 s\n",
      "\n",
      "## AND formula ##\n",
      "--Solver-based approach--\n",
      "Number of models: 1\n",
      "Time: 0.0 s\n",
      "--Native approach--\n",
      "Number of models: 1\n",
      "Time: 0.0 s\n"
     ]
    }
   ],
   "source": [
    "from ortools.sat.python import cp_model\n",
    "\n",
    "print('## OR formula ##')\n",
    "model = cp_model.CpModel()\n",
    "x = [model.NewBoolVar('x' + str(i)) for i in range(10)]\n",
    "model.AddBoolOr(x)\n",
    "benchmark('Solver-based', count_models_with_solver, model, x)\n",
    "model = cp_model.CpModel() # solver-based approach changes model, therefore re-creation\n",
    "x = [model.NewBoolVar('x' + str(i)) for i in range(10)]\n",
    "model.AddBoolOr(x)\n",
    "benchmark('Native', count_models_natively, model, Solution_Counter())\n",
    "\n",
    "print('\\n## AND formula ##')\n",
    "model = cp_model.CpModel()\n",
    "x = [model.NewBoolVar('x' + str(i)) for i in range(10)]\n",
    "model.AddBoolAnd(x)\n",
    "benchmark('Solver-based', count_models_with_solver, model, x)\n",
    "model = cp_model.CpModel()\n",
    "x = [model.NewBoolVar('x' + str(i)) for i in range(10)]\n",
    "model.AddBoolAnd(x)\n",
    "benchmark('Native', count_models_natively, model, Solution_Counter())"
   ]
  },
  {
   "cell_type": "markdown",
   "metadata": {},
   "source": [
    "The native approach beats the solver-based approach.\n",
    "Compared to `Z3`, the native approach with `OR Tools` is about as fast as `Z3` (solver-based) for AND formulas and slightly faster than `Z3` (enumeration-based) for OR formulas."
   ]
  }
 ],
 "metadata": {
  "kernelspec": {
   "display_name": "cffs_kernel",
   "language": "python",
   "name": "cffs_kernel"
  },
  "language_info": {
   "codemirror_mode": {
    "name": "ipython",
    "version": 3
   },
   "file_extension": ".py",
   "mimetype": "text/x-python",
   "name": "python",
   "nbconvert_exporter": "python",
   "pygments_lexer": "ipython3",
   "version": "3.8.1"
  }
 },
 "nbformat": 4,
 "nbformat_minor": 4
}
