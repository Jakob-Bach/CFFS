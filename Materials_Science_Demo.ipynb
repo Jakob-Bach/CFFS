{
 "cells": [
  {
   "cell_type": "markdown",
   "metadata": {},
   "source": [
    "# Demo of `Z3` on Materials Science Use Case\n",
    "\n",
    "## Load Data\n",
    "\n",
    "We use the same dataset as in the paper \"Data-driven exploration and continuum modeling of dislocation\n",
    "networks\" (submitted to MSMSE journal)."
   ]
  },
  {
   "cell_type": "code",
   "execution_count": 1,
   "metadata": {},
   "outputs": [],
   "source": [
    "import pandas as pd # data frame\n",
    "import random # constraint generation\n",
    "from z3 import * # solver\n",
    "\n",
    "dataset = pd.read_csv('C:/MyData/Versetzungsdaten/delta_sampled_merged_last_voxel_data_size2400_order2_speedUp2.csv')\n",
    "dataset.drop(columns=list(dataset)[0], inplace=True) # drop 1st column (unnamed id column)"
   ]
  },
  {
   "cell_type": "markdown",
   "metadata": {},
   "source": [
    "## Define Target and Features\n",
    "\n",
    "We want to predict a certain type of reaction density summed over all slip systems.\n",
    "All other pyhsical quantities are used as features, i.e.,\n",
    "we also include the same kind of reaction density measured in neighboring voxels."
   ]
  },
  {
   "cell_type": "code",
   "execution_count": 2,
   "metadata": {},
   "outputs": [],
   "source": [
    "target = 'rho_glissile'\n",
    "dataset[target] = dataset[target + '_1']\n",
    "for slip_system in range(2,13): # sum over slip systems\n",
    "    dataset[target] = dataset[target] + dataset[target + '_' + str(slip_system)]\n",
    "    \n",
    "features = [x for x in list(dataset) if not target in x] # exclude if feature name contains the target string"
   ]
  },
  {
   "cell_type": "markdown",
   "metadata": {},
   "source": [
    "## Compute Feature Qualities\n",
    "\n",
    "We use the absolute Pearson correlation of a feature with the prediction target as a measure for the feature's quality.\n",
    "Rounding the quality improves optimization speed greatly, as the solver uses [\"infinite precision arithmetic by default\"](http://theory.stanford.edu/~nikolaj/programmingz3.html#sec-solving-arithmetical-fragments) and represents real numbers as rational numbers."
   ]
  },
  {
   "cell_type": "code",
   "execution_count": 3,
   "metadata": {},
   "outputs": [],
   "source": [
    "featureQualities = [round(abs(dataset[x].corr(dataset[target])), 2) for x in features]"
   ]
  },
  {
   "cell_type": "markdown",
   "metadata": {},
   "source": [
    "## Define Optimization Problem\n",
    "\n",
    "The objective function basically sums up the utility of the selected features.\n",
    "For the constraints, we use a simple generator which combines randomly chosen variables to logical conditions."
   ]
  },
  {
   "cell_type": "code",
   "execution_count": 4,
   "metadata": {},
   "outputs": [],
   "source": [
    "selections = Bools(' '.join(['x' + str(i) for i in range(len(featureQualities))]))\n",
    "optimizer = Optimize()\n",
    "objective = optimizer.maximize(Sum([q * s for (q, s) in zip(featureQualities, selections)]))\n",
    "random.seed(25) # Add some random constraints\n",
    "for iteration in range(200):\n",
    "    constraint_picker = random.random()\n",
    "    if constraint_picker < 0.4:\n",
    "        chosen_literals = random.sample(selections, k=2)\n",
    "        optimizer.add(Xor(chosen_literals[0], chosen_literals[1])) # can only combine two literals\n",
    "    else:\n",
    "        num_literals = random.randint(1, 21) # can combine a set of literals\n",
    "        chosen_literals = random.sample(selections, k=num_literals) # sample without replacement\n",
    "        if constraint_picker < 0.55:\n",
    "            optimizer.add(AtMost(*chosen_literals, random.randint(1, num_literals)))\n",
    "        elif constraint_picker < 0.7:\n",
    "            featureCosts = list(zip(chosen_literals, [random.randint(1, 21) for x in chosen_literals]))\n",
    "            optimizer.add(PbLe(featureCosts, 10 * len(chosen_literals))) # sum of feature costs <= some_threshold\n",
    "        elif constraint_picker < 0.85:\n",
    "            optimizer.add(And(chosen_literals))\n",
    "        else:\n",
    "            optimizer.add(Or(chosen_literals))"
   ]
  },
  {
   "cell_type": "markdown",
   "metadata": {},
   "source": [
    "## Optimize\n",
    "\n",
    "Just run the optimizer."
   ]
  },
  {
   "cell_type": "code",
   "execution_count": 5,
   "metadata": {},
   "outputs": [
    {
     "name": "stdout",
     "output_type": "stream",
     "text": [
      "Satisfiable? sat\n",
      "Objective value: 1625.?\n",
      "Value if selecting all features: 1656\n",
      "Number of total features: 6389\n",
      "Number of selected features: 6131\n",
      "Optimizer statistics:\n",
      "(:ba-conflicts            388\n",
      " :ba-cuts                 1\n",
      " :ba-lemmas               184\n",
      " :ba-propagations         92598\n",
      " :ba-resolves             1323\n",
      " :ba-subsumes             16\n",
      " :eliminated-vars         451\n",
      " :max-memory              411.63\n",
      " :maxres-cores            206\n",
      " :maxres-correction-sets  4\n",
      " :memory                  410.01\n",
      " :num-allocs              48901950353.00\n",
      " :rlimit-count            67402033\n",
      " :sat-backjumps           1316\n",
      " :sat-backtracks          42\n",
      " :sat-conflicts           1564\n",
      " :sat-decisions           6524247\n",
      " :sat-del-clause          31\n",
      " :sat-elim-literals       5\n",
      " :sat-minimized-lits      995\n",
      " :sat-mk-clause-2ary      2415\n",
      " :sat-mk-clause-3ary      1731\n",
      " :sat-mk-clause-nary      1441\n",
      " :sat-mk-var              8690\n",
      " :sat-probing-assigned    1\n",
      " :sat-propagations-2ary   871187\n",
      " :sat-propagations-3ary   353399\n",
      " :sat-propagations-nary   85099\n",
      " :sat-scc-elim-vars       4\n",
      " :sat-subs-resolution     2\n",
      " :sat-subs-resolution-dyn 78\n",
      " :sat-subsumed            26\n",
      " :sat-units               94)\n",
      "First 5 constraints:\n",
      "Xor(x125, x1753)\n",
      "Or(x5213,\n",
      "   x3879,\n",
      "   x347,\n",
      "   x6204,\n",
      "   x2094,\n",
      "   x284,\n",
      "   x2505,\n",
      "   x4626,\n",
      "   x3474,\n",
      "   x787)\n",
      "PbLe(((x4717, 17), (x5625, 20), (x5971, 11), (x1614, 6)),\n",
      "     40)\n",
      "AtMost((x3845,\n",
      "        x4297,\n",
      "        x851,\n",
      "        x5210,\n",
      "        x5554,\n",
      "        x804,\n",
      "        x4919,\n",
      "        x4774,\n",
      "        x2918,\n",
      "        x3394,\n",
      "        x2893,\n",
      "        x1551,\n",
      "        x5538,\n",
      "        x1318,\n",
      "        x5067,\n",
      "        x3774,\n",
      "        x593),\n",
      "       3)\n",
      "AtMost((x4218, x5208, x1041), 3)\n"
     ]
    }
   ],
   "source": [
    "print('Satisfiable? ' + str(optimizer.check())) # runs the optimization\n",
    "print('Objective value: ' + objective.value().as_decimal(prec = 0))\n",
    "print('Value if selecting all features: ' + str(int(sum(featureQualities))))\n",
    "print('Number of total features: ' + str(len(selections)))\n",
    "print('Number of selected features: ' + str(sum([str(optimizer.model()[x]) == 'True' for x in selections])))\n",
    "print('Optimizer statistics:')\n",
    "print(optimizer.statistics())\n",
    "print('First 5 constraints:')\n",
    "for i in range(5):\n",
    "    print(optimizer.assertions()[i])"
   ]
  }
 ],
 "metadata": {
  "kernelspec": {
   "display_name": "cffs_kernel",
   "language": "python",
   "name": "cffs_kernel"
  },
  "language_info": {
   "codemirror_mode": {
    "name": "ipython",
    "version": 3
   },
   "file_extension": ".py",
   "mimetype": "text/x-python",
   "name": "python",
   "nbconvert_exporter": "python",
   "pygments_lexer": "ipython3",
   "version": "3.8.1"
  }
 },
 "nbformat": 4,
 "nbformat_minor": 4
}
