{
 "cells": [
  {
   "cell_type": "markdown",
   "metadata": {},
   "source": [
    "# Evaluation Demo\n",
    "\n",
    "This file demonstrates how an evaluation of constrained feature selection could look like.\n",
    "We use the `Z3` solver for optimization and an own approach for counting the number of valid feature sets.\n",
    "This means that some lines of code are duplicated and adapted to describe the optimization problem in these two \"languages\" in parallel."
   ]
  },
  {
   "cell_type": "code",
   "execution_count": 1,
   "metadata": {},
   "outputs": [],
   "source": [
    "import matplotlib.pyplot as plt\n",
    "import random\n",
    "import z3\n",
    "\n",
    "import expressions as expr\n",
    "import solving"
   ]
  },
  {
   "cell_type": "markdown",
   "metadata": {},
   "source": [
    "## Load Dataset\n",
    "\n",
    "We use a built-in regression dataset from `scikit-learn`.\n",
    "We define a feature's quality as the absolute Pearson correlation of that feature with the prediction target."
   ]
  },
  {
   "cell_type": "code",
   "execution_count": 2,
   "metadata": {
    "scrolled": true
   },
   "outputs": [
    {
     "name": "stdout",
     "output_type": "stream",
     "text": [
      "Dataset shape (without target column):(506, 13)\n"
     ]
    }
   ],
   "source": [
    "import pandas as pd\n",
    "from sklearn.datasets import load_boston\n",
    "\n",
    "dataset = load_boston()\n",
    "features = dataset.feature_names\n",
    "X = pd.DataFrame(dataset.data, columns=features)\n",
    "y = pd.Series(dataset.target)\n",
    "print('Dataset shape (without target column):' + str(X.shape))\n",
    "\n",
    "variables = [expr.Variable() for i in range(len(features))]\n",
    "z3_variables = z3.Bools(' '.join(['x' + str(i) for i in range(len(features))]))\n",
    "problem = solving.Problem(variables)\n",
    "z3_optimizer = z3.Optimize()\n",
    "feature_qualities = [round(abs(X[x].corr(y)), 2) for x in features] # number representation of Z3 benefits from rounding\n",
    "z3_objective = z3_optimizer.maximize(z3.Sum([q * s for (q, s) in zip(feature_qualities, z3_variables)]))"
   ]
  },
  {
   "cell_type": "markdown",
   "metadata": {},
   "source": [
    "## `NAND` Constraints\n",
    "\n",
    "AND constraints alone are rather boring, as they don't exclude the trivial solution of selecting all features --\n",
    "they work with the objective, rather than against it.\n",
    "Thus, we use NAND constraints --\n",
    "\"Don't select all features from a group.\""
   ]
  },
  {
   "cell_type": "markdown",
   "metadata": {},
   "source": [
    "### Generate Constraints\n",
    "\n",
    "We generate a certain number of constraints involving a certain number of features;\n",
    "both these experimental parameters are uniformly distributed random numbers.\n",
    "We repeat the generation a certain number of times.\n",
    "In each iteration, we solve the optimization problem and store important meta-data,\n",
    "e.g., the objective value, the number of selected features etc."
   ]
  },
  {
   "cell_type": "code",
   "execution_count": 3,
   "metadata": {},
   "outputs": [],
   "source": [
    "# Parameters of generation process\n",
    "num_repetitions = 100\n",
    "max_num_constraints = 10\n",
    "min_num_variables = 2 # within one constraint\n",
    "max_num_variables = 5 # within one constraint\n",
    "\n",
    "# Generation\n",
    "random.seed(25)\n",
    "results = []\n",
    "for i in range(num_repetitions):\n",
    "    z3_optimizer.push() # create checkpoint\n",
    "    num_constraints = random.randint(1, max_num_constraints)\n",
    "    for j in range(num_constraints):\n",
    "        num_variables = random.randint(min_num_variables, max_num_variables)\n",
    "        selected_variable_idx = random.sample(range(len(features)), k=num_variables)\n",
    "        selected_variables = [variables[i] for i in selected_variable_idx]\n",
    "        z3_selected_variables = [z3_variables[i] for i in selected_variable_idx]\n",
    "        problem.add_constraint(expr.Not(expr.And(selected_variables)))\n",
    "        z3_optimizer.add(z3.Not(z3.And(z3_selected_variables)))\n",
    "    z3_optimizer.check()\n",
    "    frac_solutions = problem.compute_solution_fraction()\n",
    "    if z3_objective.value().is_int(): # z3 returns different type, depending on whether result is a whole number\n",
    "        objective_value = z3_objective.value().as_long()\n",
    "    else:\n",
    "        objective_value = z3_objective.value().numerator_as_long() / z3_objective.value().denominator_as_long()\n",
    "    results.append(pd.DataFrame(\n",
    "        {'num_constraints': [num_constraints],\n",
    "         'frac_solutions': [problem.compute_solution_fraction()],\n",
    "         'objective_value': [objective_value],\n",
    "         'num_selected_features': [sum([str(z3_optimizer.model()[x]) == 'True' for x in z3_variables])]}))\n",
    "    problem.clear_constraints()\n",
    "    z3_optimizer.pop() # restore checkpoint\n",
    "result_table = pd.concat(results)"
   ]
  },
  {
   "cell_type": "markdown",
   "metadata": {},
   "source": [
    "### Evaluate Constraints\n",
    "\n",
    "First, we have a look at some summary statistics."
   ]
  },
  {
   "cell_type": "code",
   "execution_count": 4,
   "metadata": {
    "scrolled": true
   },
   "outputs": [
    {
     "name": "stdout",
     "output_type": "stream",
     "text": [
      "Num features: 13\n",
      "Unconstrained max objective value: 5.6\n"
     ]
    },
    {
     "data": {
      "text/html": [
       "<div>\n",
       "<style scoped>\n",
       "    .dataframe tbody tr th:only-of-type {\n",
       "        vertical-align: middle;\n",
       "    }\n",
       "\n",
       "    .dataframe tbody tr th {\n",
       "        vertical-align: top;\n",
       "    }\n",
       "\n",
       "    .dataframe thead th {\n",
       "        text-align: right;\n",
       "    }\n",
       "</style>\n",
       "<table border=\"1\" class=\"dataframe\">\n",
       "  <thead>\n",
       "    <tr style=\"text-align: right;\">\n",
       "      <th></th>\n",
       "      <th>num_constraints</th>\n",
       "      <th>frac_solutions</th>\n",
       "      <th>objective_value</th>\n",
       "      <th>num_selected_features</th>\n",
       "    </tr>\n",
       "  </thead>\n",
       "  <tbody>\n",
       "    <tr>\n",
       "      <th>min</th>\n",
       "      <td>1.00</td>\n",
       "      <td>0.244629</td>\n",
       "      <td>3.9800</td>\n",
       "      <td>9.00</td>\n",
       "    </tr>\n",
       "    <tr>\n",
       "      <th>mean</th>\n",
       "      <td>5.66</td>\n",
       "      <td>0.588546</td>\n",
       "      <td>4.7709</td>\n",
       "      <td>10.59</td>\n",
       "    </tr>\n",
       "    <tr>\n",
       "      <th>median</th>\n",
       "      <td>6.00</td>\n",
       "      <td>0.578369</td>\n",
       "      <td>4.7900</td>\n",
       "      <td>11.00</td>\n",
       "    </tr>\n",
       "    <tr>\n",
       "      <th>max</th>\n",
       "      <td>10.00</td>\n",
       "      <td>0.968750</td>\n",
       "      <td>5.4200</td>\n",
       "      <td>12.00</td>\n",
       "    </tr>\n",
       "  </tbody>\n",
       "</table>\n",
       "</div>"
      ],
      "text/plain": [
       "        num_constraints  frac_solutions  objective_value  \\\n",
       "min                1.00        0.244629           3.9800   \n",
       "mean               5.66        0.588546           4.7709   \n",
       "median             6.00        0.578369           4.7900   \n",
       "max               10.00        0.968750           5.4200   \n",
       "\n",
       "        num_selected_features  \n",
       "min                      9.00  \n",
       "mean                    10.59  \n",
       "median                  11.00  \n",
       "max                     12.00  "
      ]
     },
     "execution_count": 4,
     "metadata": {},
     "output_type": "execute_result"
    }
   ],
   "source": [
    "print('Num features: ' + str(len(features)))\n",
    "print('Unconstrained max objective value: ' + str(sum(feature_qualities)))\n",
    "result_table.agg(['min', 'mean', 'median', 'max'])"
   ]
  },
  {
   "cell_type": "markdown",
   "metadata": {},
   "source": [
    "Next, we create plots."
   ]
  },
  {
   "cell_type": "code",
   "execution_count": 5,
   "metadata": {},
   "outputs": [
    {
     "data": {
      "image/png": "[encoded data removed]",
      "text/plain": [
       "<Figure size 432x288 with 1 Axes>"
      ]
     },
     "metadata": {
      "needs_background": "light"
     },
     "output_type": "display_data"
    },
    {
     "data": {
      "image/png": "[encoded data removed]",
      "text/plain": [
       "<Figure size 432x288 with 1 Axes>"
      ]
     },
     "metadata": {
      "needs_background": "light"
     },
     "output_type": "display_data"
    },
    {
     "data": {
      "image/png": "[encoded data removed]",
      "text/plain": [
       "<Figure size 432x288 with 1 Axes>"
      ]
     },
     "metadata": {
      "needs_background": "light"
     },
     "output_type": "display_data"
    },
    {
     "data": {
      "image/png": "[encoded data removed]",
      "text/plain": [
       "<Figure size 432x288 with 1 Axes>"
      ]
     },
     "metadata": {
      "needs_background": "light"
     },
     "output_type": "display_data"
    }
   ],
   "source": [
    "plt.figure()\n",
    "plt.scatter(x='num_constraints', y='objective_value', data=result_table)\n",
    "plt.xlabel('num_constraints')\n",
    "plt.ylabel('objective_value')\n",
    "\n",
    "plt.figure()\n",
    "plt.scatter(x='frac_solutions', y='objective_value', data=result_table)\n",
    "plt.xlabel('frac_solutions')\n",
    "plt.ylabel('objective_value')\n",
    "\n",
    "plt.figure()\n",
    "plt.scatter(x='frac_solutions', y='num_selected_features', data=result_table)\n",
    "plt.xlabel('frac_solutions')\n",
    "plt.ylabel('num_selected_features')\n",
    "\n",
    "plt.figure()\n",
    "plt.scatter(x='num_selected_features', y='objective_value', data=result_table)\n",
    "plt.xlabel('num_selected_features')\n",
    "plt.ylabel('objective_value')\n",
    "\n",
    "plt.show()"
   ]
  },
  {
   "cell_type": "markdown",
   "metadata": {},
   "source": [
    "The results are not surprising.\n",
    "The more we limit the solution space, the lower the objective value becomes.\n",
    "The limitation of the solution space is directly or indirectly expressed in three quantities:\n",
    "- number of valid solutions under the constraints (true size of solution space)\n",
    "- number of constraints (as number of features in constraints varies and constraints might overlap, this is only an approximation for size of solution space)\n",
    "- number of features (in case of \"negative\" constraints like NAND, more/stronger constraints tend to favor smaller feature sets)"
   ]
  },
  {
   "cell_type": "markdown",
   "metadata": {},
   "source": [
    "## `AT_MOST` Constraints\n",
    "\n",
    "One common constraint -- even in standard feature selection -- is to limit the number of features.\n",
    "You don't need a solver for that with our objective function -- a greedy approach suffices -- but we evaluate it anyway."
   ]
  },
  {
   "cell_type": "markdown",
   "metadata": {},
   "source": [
    "### Generate Constraints\n",
    "\n",
    "Here, we cut out all randomness.\n",
    "We simply iterature over all possible sizes of the feature set."
   ]
  },
  {
   "cell_type": "code",
   "execution_count": 6,
   "metadata": {},
   "outputs": [],
   "source": [
    "results = []\n",
    "for num_features in range(1, len(features) + 1):\n",
    "    z3_optimizer.push() # create checkpoint\n",
    "    problem.add_constraint(expr.Lt_Eq(expr.Sum(variables), expr.Numeric_Constant(num_features)))\n",
    "    z3_optimizer.add(z3.AtMost(*z3_variables, num_features))\n",
    "    z3_optimizer.check()\n",
    "    frac_solutions = problem.compute_solution_fraction()\n",
    "    if z3_objective.value().is_int(): # z3 returns different type, depending on whether result is a whole number\n",
    "        objective_value = z3_objective.value().as_long()\n",
    "    else:\n",
    "        objective_value = z3_objective.value().numerator_as_long() / z3_objective.value().denominator_as_long()\n",
    "    results.append(pd.DataFrame(\n",
    "        {'frac_solutions': [problem.compute_solution_fraction()],\n",
    "         'objective_value': [objective_value],\n",
    "         'num_selected_features': [sum([str(z3_optimizer.model()[x]) == 'True' for x in z3_variables])]}))\n",
    "    problem.clear_constraints()\n",
    "    z3_optimizer.pop() # restore checkpoint\n",
    "result_table = pd.concat(results)"
   ]
  },
  {
   "cell_type": "markdown",
   "metadata": {},
   "source": [
    "### Evaluate Constraints\n",
    "\n",
    "First, we have a look at some summary statistics."
   ]
  },
  {
   "cell_type": "code",
   "execution_count": 7,
   "metadata": {
    "scrolled": true
   },
   "outputs": [
    {
     "name": "stdout",
     "output_type": "stream",
     "text": [
      "Num features: 13\n",
      "Unconstrained max objective value: 5.6\n"
     ]
    },
    {
     "data": {
      "text/html": [
       "<div>\n",
       "<style scoped>\n",
       "    .dataframe tbody tr th:only-of-type {\n",
       "        vertical-align: middle;\n",
       "    }\n",
       "\n",
       "    .dataframe tbody tr th {\n",
       "        vertical-align: top;\n",
       "    }\n",
       "\n",
       "    .dataframe thead th {\n",
       "        text-align: right;\n",
       "    }\n",
       "</style>\n",
       "<table border=\"1\" class=\"dataframe\">\n",
       "  <thead>\n",
       "    <tr style=\"text-align: right;\">\n",
       "      <th></th>\n",
       "      <th>frac_solutions</th>\n",
       "      <th>objective_value</th>\n",
       "      <th>num_selected_features</th>\n",
       "    </tr>\n",
       "  </thead>\n",
       "  <tbody>\n",
       "    <tr>\n",
       "      <th>min</th>\n",
       "      <td>0.001709</td>\n",
       "      <td>0.740000</td>\n",
       "      <td>1.0</td>\n",
       "    </tr>\n",
       "    <tr>\n",
       "      <th>mean</th>\n",
       "      <td>0.576914</td>\n",
       "      <td>3.547692</td>\n",
       "      <td>7.0</td>\n",
       "    </tr>\n",
       "    <tr>\n",
       "      <th>median</th>\n",
       "      <td>0.709473</td>\n",
       "      <td>3.720000</td>\n",
       "      <td>7.0</td>\n",
       "    </tr>\n",
       "    <tr>\n",
       "      <th>max</th>\n",
       "      <td>1.000000</td>\n",
       "      <td>5.600000</td>\n",
       "      <td>13.0</td>\n",
       "    </tr>\n",
       "  </tbody>\n",
       "</table>\n",
       "</div>"
      ],
      "text/plain": [
       "        frac_solutions  objective_value  num_selected_features\n",
       "min           0.001709         0.740000                    1.0\n",
       "mean          0.576914         3.547692                    7.0\n",
       "median        0.709473         3.720000                    7.0\n",
       "max           1.000000         5.600000                   13.0"
      ]
     },
     "execution_count": 7,
     "metadata": {},
     "output_type": "execute_result"
    }
   ],
   "source": [
    "print('Num features: ' + str(len(features)))\n",
    "print('Unconstrained max objective value: ' + str(sum(feature_qualities)))\n",
    "result_table.agg(['min', 'mean', 'median', 'max'])"
   ]
  },
  {
   "cell_type": "markdown",
   "metadata": {},
   "source": [
    "Next, we create plots."
   ]
  },
  {
   "cell_type": "code",
   "execution_count": 8,
   "metadata": {},
   "outputs": [
    {
     "data": {
      "image/png": "[encoded data removed]",
      "text/plain": [
       "<Figure size 432x288 with 1 Axes>"
      ]
     },
     "metadata": {
      "needs_background": "light"
     },
     "output_type": "display_data"
    },
    {
     "data": {
      "image/png": "[encoded data removed]",
      "text/plain": [
       "<Figure size 432x288 with 1 Axes>"
      ]
     },
     "metadata": {
      "needs_background": "light"
     },
     "output_type": "display_data"
    },
    {
     "data": {
      "image/png": "[encoded data removed]",
      "text/plain": [
       "<Figure size 432x288 with 1 Axes>"
      ]
     },
     "metadata": {
      "needs_background": "light"
     },
     "output_type": "display_data"
    }
   ],
   "source": [
    "plt.figure()\n",
    "plt.scatter(x='frac_solutions', y='objective_value', data=result_table)\n",
    "plt.xlabel('frac_solutions')\n",
    "plt.ylabel('objective_value')\n",
    "\n",
    "plt.figure()\n",
    "plt.scatter(x='frac_solutions', y='num_selected_features', data=result_table)\n",
    "plt.xlabel('frac_solutions')\n",
    "plt.ylabel('num_selected_features')\n",
    "\n",
    "plt.figure()\n",
    "plt.scatter(x='num_selected_features', y='objective_value', data=result_table)\n",
    "plt.xlabel('num_selected_features')\n",
    "plt.ylabel('objective_value')\n",
    "\n",
    "plt.show()"
   ]
  },
  {
   "cell_type": "markdown",
   "metadata": {},
   "source": [
    "Again, we see the trade-off between the size of the solution space and the objective value."
   ]
  }
 ],
 "metadata": {
  "kernelspec": {
   "display_name": "cffs_kernel",
   "language": "python",
   "name": "cffs_kernel"
  },
  "language_info": {
   "codemirror_mode": {
    "name": "ipython",
    "version": 3
   },
   "file_extension": ".py",
   "mimetype": "text/x-python",
   "name": "python",
   "nbconvert_exporter": "python",
   "pygments_lexer": "ipython3",
   "version": "3.8.1"
  }
 },
 "nbformat": 4,
 "nbformat_minor": 4
}
