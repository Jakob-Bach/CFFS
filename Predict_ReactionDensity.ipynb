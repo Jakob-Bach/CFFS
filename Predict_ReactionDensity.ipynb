{
 "cells": [
  {
   "cell_type": "markdown",
   "metadata": {},
   "source": [
    "# Predict of Reaction Density and Evolution of Reaction Density"
   ]
  },
  {
   "cell_type": "code",
   "execution_count": 1,
   "metadata": {},
   "outputs": [],
   "source": [
    "import re\n",
    "\n",
    "import matplotlib.pyplot as plt\n",
    "import pandas as pd"
   ]
  },
  {
   "cell_type": "markdown",
   "metadata": {},
   "source": [
    "## Load dataset"
   ]
  },
  {
   "cell_type": "code",
   "execution_count": 2,
   "metadata": {},
   "outputs": [
    {
     "name": "stdout",
     "output_type": "stream",
     "text": [
      "(2750, 6737)\n"
     ]
    }
   ],
   "source": [
    "dataset = pd.read_csv('C:/MyData/Versetzungsdaten/delta_sampled_merged_last_voxel_data_size2400_order2_speedUp2.csv')\n",
    "dataset.drop(columns=list(dataset)[0], inplace=True) # drop 1st column (unnamed id column)\n",
    "print(dataset.shape)"
   ]
  },
  {
   "cell_type": "markdown",
   "metadata": {},
   "source": [
    "This is the same dataset as used in the paper \"Data-driven exploration and continuum modeling of dislocation networks\" by Sudmanns et al."
   ]
  },
  {
   "cell_type": "markdown",
   "metadata": {},
   "source": [
    "## Define features and target\n",
    "\n",
    "We consider to prediction scenarios:\n",
    "- absolute reaction density (which is not really interesting according to a domain expert)\n",
    "- evolution of reaction density, i.e., difference from some point in time to another point in time (which probably is more difficult to predict)"
   ]
  },
  {
   "cell_type": "code",
   "execution_count": 3,
   "metadata": {},
   "outputs": [],
   "source": [
    "prediction_problems = []"
   ]
  },
  {
   "cell_type": "markdown",
   "metadata": {},
   "source": [
    "Just to demonstrate how absolute value and evolution of a quantity (like reaction density) are related in the dataset:\n",
    "The dataset contains\n",
    "\n",
    "- the absolute value of the quantity at the current macro-time step (e.g., `rho_glissile_x`)\n",
    "- the absolute value of the quantity at the previous macro-time step (e.g., `0_rho_glissile_x`); attention: usually this is 50 micro-time steps ago, but not always, as there are some larger gaps\n",
    "- the delta between current and previous value of the quantity in a normalized form, i.e., per micro-time-step (e.g., `delta_rho_glissile_1`)\n",
    "\n",
    "Below, we demonstrate for one quantity that the expected relationship between these columns in the dataset holds for all voxels:"
   ]
  },
  {
   "cell_type": "code",
   "execution_count": 4,
   "metadata": {},
   "outputs": [
    {
     "data": {
      "text/plain": [
       "count    1.250000e+02\n",
       "mean     1.695382e-13\n",
       "std      2.804409e-13\n",
       "min      0.000000e+00\n",
       "25%      8.881784e-15\n",
       "50%      5.329071e-14\n",
       "75%      2.142730e-13\n",
       "max      2.290612e-12\n",
       "dtype: float64"
      ]
     },
     "execution_count": 4,
     "metadata": {},
     "output_type": "execute_result"
    }
   ],
   "source": [
    "numerical_diffs = []\n",
    "for name, group in dataset.sort_values(by='time').groupby(by=['pos_x', 'pos_y', 'pos_z']):\n",
    "    group = group.copy()\n",
    "    group['time_diff'] = group['time'] - group['time'].shift()\n",
    "    group = group[1:] # remove first data object, which has no predecessor\n",
    "    numerical_diffs.append((group['rho_glissile_1'] - group['0_rho_glissile_1'] -\n",
    "                            group['delta_rho_glissile_1'] * group['time_diff']).abs().sum())\n",
    "pd.Series(numerical_diffs).describe()"
   ]
  },
  {
   "cell_type": "markdown",
   "metadata": {},
   "source": [
    "We can see that the columns add up as expected, apart from a small numerical error close to 0."
   ]
  },
  {
   "cell_type": "markdown",
   "metadata": {},
   "source": [
    "### Subset dataset\n",
    "\n",
    "To have a more homogenous dataset (in particular, for the evolution scenario), we select a subset of macro-time steps without gaps between them.\n",
    "This was also proposed by a domain expert.\n",
    "We select the largest of the time-step subsets."
   ]
  },
  {
   "cell_type": "code",
   "execution_count": 5,
   "metadata": {},
   "outputs": [
    {
     "name": "stdout",
     "output_type": "stream",
     "text": [
      "Timestamps: [3100, 3150, 3200, 3250, 3300, 3350]\n",
      "New dataset shape: (750, 6737)\n"
     ]
    }
   ],
   "source": [
    "times = pd.DataFrame({'time': dataset['time'].sort_values().unique()})\n",
    "times['time_diff'] = times - times.shift()\n",
    "times['group'] = (times['time_diff'] != 50).cumsum() # macro-time step bigger than usual\n",
    "longest_group = times.groupby('group').size().idxmax()\n",
    "timestamps = list(times[times['group'] == longest_group].time)[1:] # longest sequence, without first element\n",
    "print('Timestamps:', timestamps)\n",
    "dataset = dataset[dataset.time.isin(timestamps)]\n",
    "print('New dataset shape:', dataset.shape)"
   ]
  },
  {
   "cell_type": "markdown",
   "metadata": {},
   "source": [
    "Alternatively, we could also remove all macro-time steps where the direct predecessor was longer ago than usual.\n",
    "This makes the individual prediction interval homogeneous, but overall still combines data which might be largely apart."
   ]
  },
  {
   "cell_type": "code",
   "execution_count": 6,
   "metadata": {},
   "outputs": [],
   "source": [
    "# times = pd.Series(dataset['time'].sort_values().unique())\n",
    "# time_diffs = times - times.shift()\n",
    "# timestamps = list(times[time_diffs == 50])\n",
    "# print('Timestamps:', timestamps)\n",
    "# dataset = dataset[dataset.time.isin(timestamps)]\n",
    "# print('New dataset shape:', dataset.shape)"
   ]
  },
  {
   "cell_type": "markdown",
   "metadata": {},
   "source": [
    "### Prediction target: Absolute reaction density\n",
    "\n",
    "We sum the reaction density over the 12 slip systems.\n",
    "We exclude some features from prediction, in particular, values from the previous macro-time step and deltas."
   ]
  },
  {
   "cell_type": "code",
   "execution_count": 7,
   "metadata": {},
   "outputs": [],
   "source": [
    "target = 'rho_glissile'\n",
    "dataset[target] = dataset[[target + '_' + str(i) for i in range(1, 13)]].sum(axis='columns')\n",
    "features = [x for x in list(dataset) if not target in x] # exclude if feature name contains the target string\n",
    "features = [x for x in features if re.search('^([0-9]+)_', x) is None] # exclude historic features\n",
    "features = [x for x in features if not 'delta' in x] # exclude delta features\n",
    "features = [x for x in features if not 'pos_' in x and x != 'time'] # exclude position and time\n",
    "prediction_problems.append({'target': target, 'features': features})"
   ]
  },
  {
   "cell_type": "markdown",
   "metadata": {},
   "source": [
    "### Prediction target: Evolution of reaction density\n",
    "\n",
    "Similar procedure.\n",
    "We only consider values from the previous macro-time step as features."
   ]
  },
  {
   "cell_type": "code",
   "execution_count": 8,
   "metadata": {},
   "outputs": [],
   "source": [
    "target = 'delta_rho_glissile'\n",
    "dataset[target] = dataset[[target + '_' + str(i) for i in range(1, 13)]].sum(axis='columns')\n",
    "features = [x for x in list(dataset) if not target in x] # exclude if feature name contains the target string\n",
    "features = [x for x in features if re.search('^0_', x) is not None] # only values from previous time step\n",
    "prediction_problems.append({'target': target, 'features': features})"
   ]
  },
  {
   "cell_type": "markdown",
   "metadata": {},
   "source": [
    "## Run prediction pipeline\n",
    "\n",
    "We try several regression models with a time-based holdout split.\n",
    "Currently, we don't have any other pre-processing in place than our definition of the feature set."
   ]
  },
  {
   "cell_type": "code",
   "execution_count": 9,
   "metadata": {},
   "outputs": [],
   "source": [
    "import numpy as np\n",
    "from sklearn.dummy import DummyRegressor\n",
    "from sklearn.linear_model import LinearRegression\n",
    "from sklearn.metrics import r2_score\n",
    "from sklearn.tree import DecisionTreeRegressor\n",
    "from xgboost import XGBRegressor\n",
    "\n",
    "models = {\n",
    "    'Dummy': DummyRegressor(strategy='mean'),\n",
    "    'Decision tree': DecisionTreeRegressor(),\n",
    "    'Linear regression': LinearRegression(),\n",
    "    'xgboost': XGBRegressor(),\n",
    "}\n",
    "\n",
    "max_train_time = dataset['time'].quantile(q=0.8)\n",
    "np.random.seed(25)\n",
    "results = []\n",
    "for problem in prediction_problems:\n",
    "    X_train = dataset[dataset['time'] <= max_train_time][problem['features']]\n",
    "    y_train = dataset[dataset['time'] <= max_train_time][problem['target']]\n",
    "    X_test = dataset[dataset['time'] > max_train_time][problem['features']]\n",
    "    y_test = dataset[dataset['time'] > max_train_time][problem['target']]\n",
    "    for model_name, model in models.items():\n",
    "        model.fit(X_train, y_train)\n",
    "        pred_train = model.predict(X_train)\n",
    "        train_score = r2_score(y_true=y_train, y_pred=pred_train)\n",
    "        pred_test = model.predict(X_test)\n",
    "        test_score = r2_score(y_true=y_test, y_pred=pred_test)\n",
    "        results.append({'target': problem['target'], 'model': model_name,\n",
    "                        'train_score': train_score, 'test_score': test_score})\n",
    "results = pd.DataFrame(results)"
   ]
  },
  {
   "cell_type": "markdown",
   "metadata": {},
   "source": [
    "## Evaluate\n",
    "\n",
    "We tabulate and plot the results.\n",
    "Predicting evolution is much harder than predicting absolute values."
   ]
  },
  {
   "cell_type": "code",
   "execution_count": 10,
   "metadata": {},
   "outputs": [
    {
     "name": "stdout",
     "output_type": "stream",
     "text": [
      "               target              model  train_score  test_score\n",
      "0        rho_glissile              Dummy     0.000000   -0.000450\n",
      "1        rho_glissile      Decision tree     1.000000    0.984858\n",
      "2        rho_glissile  Linear regression     0.996809    0.988409\n",
      "3        rho_glissile            xgboost     1.000000    0.989153\n",
      "4  delta_rho_glissile              Dummy     0.000000   -0.003692\n",
      "5  delta_rho_glissile      Decision tree     1.000000   -1.387211\n",
      "6  delta_rho_glissile  Linear regression     0.600963   -0.258658\n",
      "7  delta_rho_glissile            xgboost     0.999978   -0.359716\n"
     ]
    },
    {
     "data": {
      "image/png": "[encoded data removed]",
      "text/plain": [
       "<Figure size 1152x288 with 1 Axes>"
      ]
     },
     "metadata": {
      "needs_background": "light"
     },
     "output_type": "display_data"
    }
   ],
   "source": [
    "print(results)\n",
    "results.set_index(['target', 'model']).plot(kind='bar', figsize=(16, 4), ylim=(-0.2, 1.2)) # alternative to indexing: xticks\n",
    "plt.show()"
   ]
  }
 ],
 "metadata": {
  "kernelspec": {
   "display_name": "cffs_kernel",
   "language": "python",
   "name": "cffs_kernel"
  },
  "language_info": {
   "codemirror_mode": {
    "name": "ipython",
    "version": 3
   },
   "file_extension": ".py",
   "mimetype": "text/x-python",
   "name": "python",
   "nbconvert_exporter": "python",
   "pygments_lexer": "ipython3",
   "version": "3.8.1"
  }
 },
 "nbformat": 4,
 "nbformat_minor": 4
}
