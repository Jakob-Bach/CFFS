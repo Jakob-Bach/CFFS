{
 "cells": [
  {
   "cell_type": "markdown",
   "metadata": {},
   "source": [
    "# Z3 Playground\n",
    "\n",
    "We use the [Z3 Theorem Prover](https://github.com/z3prover/z3).\n",
    "Helpful resources are:\n",
    "- the extensive Python-API-based [tutorial](http://theory.stanford.edu/~nikolaj/programmingz3.html), which also explains the theoretical background and solving procedures\n",
    "- the getting-started [guide](https://rise4fun.com/z3/tutorial/guide) using the Z3 input format\n",
    "- the Python API documentation in [two](https://z3prover.github.io/api/html/namespacez3py.html) [different](https://z3prover.github.io/api/html/z3.html) formats\n",
    "- the [Wiki](https://github.com/Z3Prover/z3/wiki) on *GitHub*\n",
    "- the [online prover](https://rise4fun.com/Z3/)"
   ]
  },
  {
   "cell_type": "code",
   "execution_count": 1,
   "metadata": {},
   "outputs": [],
   "source": [
    "from z3 import *"
   ]
  },
  {
   "cell_type": "markdown",
   "metadata": {},
   "source": [
    "# Propositional Logic\n",
    "\n",
    "Besides solving a simple logical problem, the following example also shows that we can easily handle a whole list of variables."
   ]
  },
  {
   "cell_type": "code",
   "execution_count": 2,
   "metadata": {},
   "outputs": [
    {
     "name": "stdout",
     "output_type": "stream",
     "text": [
      "Formula: [Not(x1), And(x2, x3, x4), Xor(x3, x5)]\n",
      "Satisfiable? sat\n",
      "One model: [x1 = False, x2 = True, x3 = True, x4 = True, x5 = False]\n"
     ]
    }
   ],
   "source": [
    "x = Bools(' '.join(['x' + str(i) for i in range(1, 6)]))\n",
    "solver = Solver()\n",
    "solver.add(Not(x[0]))\n",
    "solver.add(And(x[1:4]))\n",
    "solver.add(Xor(x[2], x[4]))\n",
    "print('Formula: ' + str(solver))\n",
    "print('Satisfiable? ' + str(solver.check()))\n",
    "print('One model: ' + str(solver.model())) # uses the last check()"
   ]
  },
  {
   "cell_type": "markdown",
   "metadata": {},
   "source": [
    "Let's have a look at some further features of `Z3`.\n",
    "For example, we can create checkpoints containing a certain set of constraints.\n",
    "There also is a function to show run statistics, but its result is not really well-explained in the official documentation;\n",
    "[some](https://stackoverflow.com/questions/18491922/interpretation-of-z3-statistics)\n",
    "[StackOverflow](https://stackoverflow.com/questions/17856574/how-to-interpret-statistics-z3)\n",
    "[posts](https://stackoverflow.com/questions/6841193/which-statistics-indicate-an-efficient-run-of-z3)\n",
    "might help."
   ]
  },
  {
   "cell_type": "code",
   "execution_count": 3,
   "metadata": {},
   "outputs": [
    {
     "name": "stdout",
     "output_type": "stream",
     "text": [
      "SMT-LIB2 representation:\n",
      "; benchmark generated from python API\n",
      "(set-info :status unknown)\n",
      "(declare-fun x1 () Bool)\n",
      "(declare-fun x4 () Bool)\n",
      "(declare-fun x3 () Bool)\n",
      "(declare-fun x2 () Bool)\n",
      "(declare-fun x5 () Bool)\n",
      "(assert\n",
      " (not x1))\n",
      "(assert\n",
      " (and x2 x3 x4))\n",
      "(assert\n",
      " (xor x3 x5))\n",
      "(check-sat)\n",
      "\n",
      "Number of checkpoints: 0\n",
      "Checkpoint...\n",
      "Number of checkpoints: 1\n",
      "Add another constraint (solver might attempt incremental solution from last check)...\n",
      "Formula: [Not(x1), And(x2, x3, x4), Xor(x3, x5), x5]\n",
      "Satisfiable? unsat\n",
      "Solver statistics:\n",
      "(:max-memory   3.25\n",
      " :memory       3.05\n",
      " :mk-bool-var  6\n",
      " :num-allocs   1055064\n",
      " :num-checks   1\n",
      " :rlimit-count 228)\n",
      "Go back to last checkpoint...\n",
      "Formula: [Not(x1), And(x2, x3, x4), Xor(x3, x5)]\n",
      "Number of checkpoints: 0\n",
      "Satisfiable? sat\n",
      "Satisfiable when adding last constraint temporarily? unsat\n",
      "Clear solver...\n",
      "Formula: []\n"
     ]
    }
   ],
   "source": [
    "print('SMT-LIB2 representation:') # could be loaded from a file\n",
    "print(solver.to_smt2())\n",
    "print('Number of checkpoints: ' + str(solver.num_scopes()))\n",
    "print('Checkpoint...')\n",
    "solver.push()\n",
    "print('Number of checkpoints: ' + str(solver.num_scopes()))\n",
    "print('Add another constraint (solver might attempt incremental solution from last check)...')\n",
    "solver.add(x[4])\n",
    "print('Formula: ' + str(solver))\n",
    "print('Satisfiable? ' + str(solver.check()))\n",
    "print('Solver statistics:')\n",
    "print(solver.statistics())\n",
    "print('Go back to last checkpoint...')\n",
    "solver.pop()\n",
    "print('Formula: ' + str(solver))\n",
    "print('Number of checkpoints: ' + str(solver.num_scopes()))\n",
    "print('Satisfiable? ' + str(solver.check()))\n",
    "print('Satisfiable when adding last constraint temporarily? ' + str(solver.check(x[4])))\n",
    "print('Clear solver...')\n",
    "solver.reset()\n",
    "print('Formula: ' + str(solver))"
   ]
  },
  {
   "cell_type": "markdown",
   "metadata": {},
   "source": [
    "# Arithmetic\n",
    "\n",
    "Besides demonstraing basic arithmetic with quantifiers, the following example also shows we case use the `solve()` function instead of a `Solver` object."
   ]
  },
  {
   "cell_type": "code",
   "execution_count": 4,
   "metadata": {},
   "outputs": [
    {
     "name": "stdout",
     "output_type": "stream",
     "text": [
      "[y = 3, x = 1]\n"
     ]
    }
   ],
   "source": [
    "x = Int('x')\n",
    "y = Int('y')\n",
    "z = Real('z')\n",
    "solve(x + y == 4, ForAll([z], x * z == z))"
   ]
  },
  {
   "cell_type": "markdown",
   "metadata": {},
   "source": [
    "# Special Boolean Theories\n",
    "\n",
    "According to the [tutorial](http://theory.stanford.edu/~nikolaj/programmingz3.html#sec-boolean-theories), there are special handlers for certain Boolean cardinality constraints which could be translated into clauses, but can also be considered directly.\n",
    "We also demonstrate how to access the assignments of the model."
   ]
  },
  {
   "cell_type": "code",
   "execution_count": 5,
   "metadata": {},
   "outputs": [
    {
     "name": "stdout",
     "output_type": "stream",
     "text": [
      "Formula:\n",
      "[at-least(x1, x2, x3, x4, x5),\n",
      " AtMost((x1, x2, x3, x4, x5), 2),\n",
      " Not(x1),\n",
      " Xor(x2, x3),\n",
      " PbEq(((x6, 2), (x7, 3), (x8, 4)), 6),\n",
      " PbGe(((x9, 2), (x10, 2)), 3)]\n",
      "Satisfiable? sat\n",
      "One model (default conversion to string):\n",
      "[x8 = True,\n",
      " x4 = True,\n",
      " x5 = False,\n",
      " x6 = True,\n",
      " x7 = False,\n",
      " x9 = True,\n",
      " x10 = True,\n",
      " x2 = False,\n",
      " x3 = True,\n",
      " x1 = False]\n",
      "Optimal solution (sorted): x1=False, x2=False, x3=True, x4=True, x5=False, x6=True, x7=False, x8=True, x9=True, x10=True\n"
     ]
    }
   ],
   "source": [
    "x = Bools(' '.join(['x' + str(i) for i in range(1, 11)]))\n",
    "solver = Solver()\n",
    "solver.add(AtLeast(*x[0:5], 2)) # cardinality; here, list needs to be converted to single args\n",
    "solver.add(AtMost(*x[0:5], 2)) # cardinality\n",
    "solver.add(Not(x[0]))\n",
    "solver.add(Xor(x[1], x[2]))\n",
    "solver.add(PbEq([(x[5], 2), (x[6], 3), (x[7], 4)], 6)) # pseudo-Boolean: 2*x_6 + 3*x_7 + 4*x_8 = 6\n",
    "solver.add(PbGe([(x[8], 2), (x[9], 2)], 3)) # pseudo-Boolean: 2*x_9 + 2*x_10 >= 3\n",
    "print('Formula:')\n",
    "print(str(solver))\n",
    "print('Satisfiable? ' + str(solver.check()))\n",
    "print('One model (default conversion to string):')\n",
    "print(solver.model())\n",
    "print('Optimal solution (sorted): ' + ', '.join([str(var) + '=' + str(solver.model()[var]) for var in x]))"
   ]
  },
  {
   "cell_type": "markdown",
   "metadata": {},
   "source": [
    "# Optimization\n",
    "\n",
    "We demonstrate the optimization functionality by solving a knapsack problem."
   ]
  },
  {
   "cell_type": "code",
   "execution_count": 6,
   "metadata": {},
   "outputs": [
    {
     "name": "stdout",
     "output_type": "stream",
     "text": [
      "Weights: [7, 1, 4, 5, 11, 8, 1, 5, 1, 5]\n",
      "Utilities: [10, 7, 2, 10, 2, 10, 11, 4, 9, 10]\n",
      "Satisfiable? sat\n",
      "Optimal solution:\n",
      "[x5 = False,\n",
      " x1 = False,\n",
      " x2 = True,\n",
      " x3 = False,\n",
      " x4 = False,\n",
      " x6 = False,\n",
      " x10 = True,\n",
      " x7 = True,\n",
      " x8 = False,\n",
      " x9 = True]\n",
      "Objective value: 37\n",
      "Full optimization problem:\n",
      "(declare-fun x10 () Bool)\n",
      "(declare-fun x9 () Bool)\n",
      "(declare-fun x8 () Bool)\n",
      "(declare-fun x7 () Bool)\n",
      "(declare-fun x6 () Bool)\n",
      "(declare-fun x5 () Bool)\n",
      "(declare-fun x4 () Bool)\n",
      "(declare-fun x3 () Bool)\n",
      "(declare-fun x2 () Bool)\n",
      "(declare-fun x1 () Bool)\n",
      "(assert (<= (+ (ite x1 7 0)\n",
      "       (ite x2 1 0)\n",
      "       (ite x3 4 0)\n",
      "       (ite x4 5 0)\n",
      "       (ite x5 11 0)\n",
      "       (ite x6 8 0)\n",
      "       (ite x7 1 0)\n",
      "       (ite x8 5 0)\n",
      "       (ite x9 1 0)\n",
      "       (ite x10 5 0))\n",
      "    9))\n",
      "(maximize (+ (ite x1 10 0)\n",
      "   (ite x2 7 0)\n",
      "   (ite x3 2 0)\n",
      "   (ite x4 10 0)\n",
      "   (ite x5 2 0)\n",
      "   (ite x6 10 0)\n",
      "   (ite x7 11 0)\n",
      "   (ite x8 4 0)\n",
      "   (ite x9 9 0)\n",
      "   (ite x10 10 0)))\n",
      "(check-sat)\n",
      "\n"
     ]
    }
   ],
   "source": [
    "import random\n",
    "\n",
    "selections = Bools(' '.join(['x' + str(i) for i in range(1, 11)]))\n",
    "random.seed(25)\n",
    "weights = [random.randint(1, 11) for i in range(1,11)]\n",
    "print('Weights: ' + str(weights))\n",
    "utilities = [random.randint(1, 11) for i in range(1,11)]\n",
    "print('Utilities: ' + str(utilities))\n",
    "optimizer = Optimize()\n",
    "objective = optimizer.maximize(Sum([u * s for (u, s) in zip(utilities, selections)]))\n",
    "optimizer.add(Sum([w * s for (w, s) in zip(weights, selections)]) <= 9)\n",
    "print('Satisfiable? ' + str(optimizer.check()))\n",
    "print('Optimal solution:')\n",
    "print(optimizer.model())\n",
    "print('Objective value: ' + str(objective.value()))\n",
    "print('Full optimization problem:')\n",
    "print(str(optimizer))"
   ]
  },
  {
   "cell_type": "markdown",
   "metadata": {},
   "source": [
    "# Counting the Number of Solutions\n",
    "\n",
    "The `Z3` solver returns only one valid solution.\n",
    "We try two ways to find/count all satisfying interpretations (models):\n",
    "- Enumeration-based: Enumerate all possible assignments and check if they satisfy all assertions. This is possible in `Z3` with a substitution and simplification mechanism, but looks a bit awkward.\n",
    "- [Solver-based](https://stackoverflow.com/questions/13395391/z3-finding-all-satisfying-models): Find the first model with the solver. Add the negation of its assignment as another constraint and re-run the solver. Thus, the solver will find a different solution. Repeat until unsatisfiable."
   ]
  },
  {
   "cell_type": "code",
   "execution_count": 7,
   "metadata": {},
   "outputs": [],
   "source": [
    "def count_models_with_solver(solver, variables):\n",
    "    solver.push() # as we will add further assertions to solver, checkpoint current state\n",
    "    solutions = 0\n",
    "    while solver.check() == sat:\n",
    "        solutions = solutions + 1\n",
    "        # Invert at least one variable to get a different solution:\n",
    "        solver.add(Or([Not(x) if is_true(solver.model()[x]) else x for x in variables]))\n",
    "    solver.pop() # restore solver to previous state\n",
    "    return solutions\n",
    "\n",
    "import itertools\n",
    "\n",
    "def count_models_by_enumeration(solver, variables):\n",
    "    solutions = 0\n",
    "    for assignment in itertools.product([False, True], repeat = len(variables)): # all combinations\n",
    "        satisfied = True\n",
    "        for assertion in solver.assertions():\n",
    "            if is_false(simplify(substitute(assertion, list(zip(variables, [BoolVal(x) for x in assignment]))))):\n",
    "                satisfied = False\n",
    "                break\n",
    "        if satisfied: solutions = solutions + 1\n",
    "    return solutions"
   ]
  },
  {
   "cell_type": "markdown",
   "metadata": {},
   "source": [
    "We try both approaches with a small propositional formula with 10 variables, using an AND constraint as well as an OR constraint."
   ]
  },
  {
   "cell_type": "code",
   "execution_count": 8,
   "metadata": {},
   "outputs": [
    {
     "name": "stdout",
     "output_type": "stream",
     "text": [
      "## OR formula ##\n",
      "--Enumeration-based approach--\n",
      "Number of models: 1023\n",
      "Time: 0.46 s\n",
      "--Solver-based approach--\n",
      "Number of models: 1023\n",
      "Time: 1.48 s\n",
      "## AND formula ##\n",
      "--Enumeration-based approach--\n",
      "Number of models: 1\n",
      "Time: 0.49 s\n",
      "--Solver-based approach--\n",
      "Number of models: 1\n",
      "Time: 0.0 s\n"
     ]
    }
   ],
   "source": [
    "import time\n",
    "\n",
    "def benchmark(name, function, solver, variables):\n",
    "    print('--'+ name + ' approach--')\n",
    "    start_time = time.perf_counter()\n",
    "    print('Number of models: ' + str(function(solver, variables)))\n",
    "    end_time = time.perf_counter()\n",
    "    print('Time: ' + str(round(end_time - start_time, 2)) + ' s')\n",
    "\n",
    "\n",
    "x = Bools(' '.join('x' + str(i) for i in range(10)))\n",
    "solver = Solver()\n",
    "\n",
    "print('## OR formula ##')\n",
    "solver.add(Or(x))\n",
    "benchmark('Enumeration-based', count_models_by_enumeration, solver, x)\n",
    "benchmark('Solver-based', count_models_with_solver, solver, x)\n",
    "\n",
    "print('## AND formula ##')\n",
    "solver.reset()\n",
    "solver.add(And(x))\n",
    "benchmark('Enumeration-based', count_models_by_enumeration, solver, x)\n",
    "benchmark('Solver-based', count_models_with_solver, solver, x)"
   ]
  },
  {
   "cell_type": "markdown",
   "metadata": {},
   "source": [
    "The enumeration-based approach has to evaluate the same number of variables for AND and OR formulas, i.e., all variables.\n",
    "In our implementation, it would only benefit if there were multiple assertions, as it could abort earlier in some cases.\n",
    "The solver-based approach is faster if there are few models and slower if there are many models.\n",
    "Though it can build on previous solutions, finding a new model which also is different from the previous models actually becomes more difficult over time, the number of constraints grows."
   ]
  }
 ],
 "metadata": {
  "kernelspec": {
   "display_name": "cffs_kernel",
   "language": "python",
   "name": "cffs_kernel"
  },
  "language_info": {
   "codemirror_mode": {
    "name": "ipython",
    "version": 3
   },
   "file_extension": ".py",
   "mimetype": "text/x-python",
   "name": "python",
   "nbconvert_exporter": "python",
   "pygments_lexer": "ipython3",
   "version": "3.8.1"
  }
 },
 "nbformat": 4,
 "nbformat_minor": 4
}
