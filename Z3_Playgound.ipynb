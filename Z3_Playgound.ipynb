{
 "cells": [
  {
   "cell_type": "markdown",
   "metadata": {},
   "source": [
    "# Z3 Playground\n",
    "\n",
    "We use the [Z3 Theorem Prover](https://github.com/z3prover/z3).\n",
    "Helpful resources are:\n",
    "- the extensive Python-API-based [tutorial](http://theory.stanford.edu/~nikolaj/programmingz3.html)\n",
    "- the getting-started [guide](https://rise4fun.com/z3/tutorial/guide) using the Z3 input format\n",
    "- the Python API documentation in [two](https://z3prover.github.io/api/html/namespacez3py.html) [different](https://z3prover.github.io/api/html/z3.html) formats\n",
    "- the [Wiki](https://github.com/Z3Prover/z3/wiki) on *GitHub*\n",
    "- the [online prover](https://rise4fun.com/Z3/)"
   ]
  },
  {
   "cell_type": "code",
   "execution_count": 1,
   "metadata": {},
   "outputs": [],
   "source": [
    "from z3 import *"
   ]
  },
  {
   "cell_type": "markdown",
   "metadata": {},
   "source": [
    "# Propositional Logic\n",
    "\n",
    "Besides solving a simple logical problem, the following example also shows that we can easily handle a whole list of variables."
   ]
  },
  {
   "cell_type": "code",
   "execution_count": 2,
   "metadata": {},
   "outputs": [
    {
     "name": "stdout",
     "output_type": "stream",
     "text": [
      "Satisfiable? sat\n",
      "One model: [x1 = False, x2 = True, x3 = True, x4 = True, x5 = False]\n"
     ]
    }
   ],
   "source": [
    "x = Bools(' '.join(['x' + str(i) for i in range(1, 6)]))\n",
    "solver = Solver()\n",
    "solver.add(Not(x[0]))\n",
    "solver.add(And(x[1:4]))\n",
    "solver.add(Or(x[2], x[4]))\n",
    "print('Satisfiable? ' + str(solver.check()))\n",
    "print('One model: ' + str(solver.model()))"
   ]
  }
 ],
 "metadata": {
  "kernelspec": {
   "display_name": "cffs_kernel",
   "language": "python",
   "name": "cffs_kernel"
  },
  "language_info": {
   "codemirror_mode": {
    "name": "ipython",
    "version": 3
   },
   "file_extension": ".py",
   "mimetype": "text/x-python",
   "name": "python",
   "nbconvert_exporter": "python",
   "pygments_lexer": "ipython3",
   "version": "3.8.1"
  }
 },
 "nbformat": 4,
 "nbformat_minor": 4
}
